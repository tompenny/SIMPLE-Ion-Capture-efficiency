{
 "cells": [
  {
   "cell_type": "code",
   "execution_count": 2,
   "metadata": {},
   "outputs": [],
   "source": [
    "import numpy as np\n",
    "import matplotlib.pyplot as plt\n",
    "#import SIMION_utils as su\n",
    "import importlib\n",
    "import pandas as pd"
   ]
  },
  {
   "cell_type": "code",
   "execution_count": 5,
   "metadata": {},
   "outputs": [],
   "source": [
    "base = 'D:/Simulation Data/SIMION/240514/'\n",
    "files = ['run1']\n",
    "ftype = '.csv'\n",
    "#filename = base+files[0]+ftype\n",
    "#data = pd.read_csv(filename, names=list('abcdefghij')) "
   ]
  },
  {
   "cell_type": "code",
   "execution_count": 7,
   "metadata": {},
   "outputs": [],
   "source": [
    "effs = []\n",
    "errs = []\n",
    "for file in files:\n",
    "    filename = base+file+ftype\n",
    "    data = pd.read_csv(filename, names=list('abcdefghij')) \n",
    "    if file == 'set30':\n",
    "        \n",
    "        da = np.array([i for i in data.values[32:, 0:4] if i[0] != 'stopped after max_time' ])[::2].astype('float')[:, 1:]\n",
    "        da2 = np.array([i for i in data.values[33:, 0:4] if i[0] != 'stopped after max_time' ])[::2].astype('float')[:, 1:]\n",
    "    else:\n",
    "        da = np.array([i for i in data.values[23:, 0:4] if i[0] != 'stopped after max_time' ])[::2].astype('float')[:, 1:]\n",
    "        da2 = np.array([i for i in data.values[24:, 0:4] if i[0] != 'stopped after max_time' ])[::2].astype('float')[:, 1:]\n",
    "    i = 0\n",
    "    j = 0\n",
    "    indices = []\n",
    "    indices2 = []\n",
    "    effs_tmp = []\n",
    "    for l in range(10):\n",
    "        da_tmp = da[l*100:(l+1)*100]\n",
    "        for n, k in enumerate(da_tmp):\n",
    "            if np.sqrt((k[0]-6.5)**2 + (k[1]-6.5)**2 + k[2]**2)<1:\n",
    "                i+=1\n",
    "                if n != 0:\n",
    "                    indices.append(n)\n",
    "            else:\n",
    "                j +=1\n",
    "                if n != 0:\n",
    "                    indices2.append(n)\n",
    "        eff = i/(i+j)\n",
    "        effs_tmp.append(eff)\n",
    "    effs.append(np.mean(effs_tmp))\n",
    "    errs.append(np.std(effs_tmp)/np.sqrt(1))"
   ]
  },
  {
   "cell_type": "code",
   "execution_count": 8,
   "metadata": {},
   "outputs": [
    {
     "data": {
      "text/plain": [
       "[0.15875079365079364]"
      ]
     },
     "execution_count": 8,
     "metadata": {},
     "output_type": "execute_result"
    }
   ],
   "source": [
    "effs"
   ]
  },
  {
   "cell_type": "markdown",
   "metadata": {},
   "source": [
    "Okay, this is pretty much the exact same efficiency so I guess it works just fine as expected."
   ]
  }
 ],
 "metadata": {
  "kernelspec": {
   "display_name": "base",
   "language": "python",
   "name": "python3"
  },
  "language_info": {
   "codemirror_mode": {
    "name": "ipython",
    "version": 3
   },
   "file_extension": ".py",
   "mimetype": "text/x-python",
   "name": "python",
   "nbconvert_exporter": "python",
   "pygments_lexer": "ipython3",
   "version": "3.11.7"
  }
 },
 "nbformat": 4,
 "nbformat_minor": 2
}
